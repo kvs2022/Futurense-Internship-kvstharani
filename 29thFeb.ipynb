{
 "cells": [
  {
   "cell_type": "code",
   "execution_count": null,
   "metadata": {},
   "outputs": [],
   "source": [
    "# 1\n",
    "x= int(input(\"Enter a number\"))\n",
    "y=int(input(\"Enter another number\"))\n",
    "z=x+y\n",
    "print(\"The sum of two numbers is\" ,z)"
   ]
  },
  {
   "cell_type": "code",
   "execution_count": null,
   "metadata": {},
   "outputs": [],
   "source": [
    "# 2\n",
    "x=eval(input(\"Enter a number\"),sep=\" \")\n",
    "y=eval(input(\"Enter another number\"))\n",
    "print(max(x,y))\n"
   ]
  },
  {
   "cell_type": "code",
   "execution_count": null,
   "metadata": {},
   "outputs": [],
   "source": [
    "# 3\n",
    "def fact(n):\n",
    "    if n==0:\n",
    "        return 1\n",
    "    else:\n",
    "        return n*fact(n-1)\n",
    "n=int(input(\"Enter a number\"))\n",
    "print(\"Factorial of a number is \",fact(n))\n"
   ]
  },
  {
   "cell_type": "code",
   "execution_count": null,
   "metadata": {},
   "outputs": [],
   "source": [
    "# 4\n",
    "p=eval(input(\"Enter the principal \"))\n",
    "r=eval(input(\"Enter the rate of interest \"))\n",
    "t=eval(input(\"Enter the time period \"))\n",
    "i=p*r*t/100\n",
    "print(\"simple interest for the give principal is \",i)"
   ]
  },
  {
   "cell_type": "code",
   "execution_count": null,
   "metadata": {},
   "outputs": [],
   "source": [
    "# 5\n",
    "import math \n",
    "p=eval(input(\"Enter the prinicpal amount \"))\n",
    "r=eval(input(\"Enter the rate of interest \"))\n",
    "t=eval(input(\"Enter the number of years \"))\n",
    "n=eval(input(\"Enter the number of times u want to calculate ci \"))\n",
    "\n",
    "compoundinterest = p*(1+r/100/n)**(n*t)-p\n",
    "\n",
    "print(\"The compund interest is \", compoundinterest)"
   ]
  },
  {
   "cell_type": "code",
   "execution_count": null,
   "metadata": {},
   "outputs": [],
   "source": [
    "# 6\n",
    "def is_armstrong(n):\n",
    "    # convert number to string\n",
    "    n_str = str(n)\n",
    "    # calculate the number of digits\n",
    "    num_digits = len(n_str)\n",
    "    # calculate the sum of the digits raised to the power of the number of digits\n",
    "    armstrong_sum = sum(int(digit)**num_digits for digit in n_str)\n",
    "    # check if the sum is equal to the original number\n",
    "    return n == armstrong_sum\n",
    "\n",
    "x = int(input(\"Enter a number: \"))\n",
    "if is_armstrong(x):\n",
    "    print(x, \"is an armstrong number\")\n",
    "else:\n",
    "    print(x, \"is not an armstrong number\")\n"
   ]
  },
  {
   "cell_type": "code",
   "execution_count": null,
   "metadata": {},
   "outputs": [],
   "source": [
    "# 7\n",
    "import math\n",
    "r=eval(input(\"Enter the radius of the circle \"))\n",
    "area = math.pow((math.pi * r),2)\n",
    "print(\"Area of the circle \",area)"
   ]
  },
  {
   "cell_type": "code",
   "execution_count": 1,
   "metadata": {},
   "outputs": [],
   "source": [
    "# 8\n",
    "x=eval(input(\"Enter the range\"),sep=\" \")\n",
    "def is_prime(n):\n",
    "    if n <= 1:\n",
    "        return False\n",
    "    for i in range(2, int(n**0.5) + 1):\n",
    "        if n % i == 0:\n",
    "            return False\n",
    "    return True\n",
    "\n",
    "x, y = eval(input(\"Enter the range (x, y): \"))\n",
    "\n",
    "for n in range(x, y+1):\n",
    "    if is_prime(n):\n",
    "        print(n)"
   ]
  },
  {
   "cell_type": "code",
   "execution_count": null,
   "metadata": {},
   "outputs": [],
   "source": [
    "# 9\n",
    "def is_prime(n):\n",
    "    if n <= 1:\n",
    "        return False\n",
    "    for i in range(2, int(n**0.5) + 1):\n",
    "        if n % i == 0:\n",
    "            return False\n",
    "    return True\n",
    "\n",
    "x = int(input(\"Enter a number: \"))\n",
    "if is_prime(x):\n",
    "    print(x, \"is prime\")\n",
    "else:\n",
    "    print(x, \"is not prime\")# 9\n",
    "def is_prime(n):\n",
    "    if n <= 1:\n",
    "        return False\n",
    "    for i in range(2, int(n**0.5) + 1):\n",
    "        if n % i == 0:\n",
    "            return False\n",
    "    return True\n",
    "\n",
    "x = int(input(\"Enter a number: \"))\n",
    "if is_prime(x):\n",
    "    print(x, \"is prime\")\n",
    "else:\n",
    "    print(x, \"is not prime\")"
   ]
  },
  {
   "cell_type": "code",
   "execution_count": null,
   "metadata": {},
   "outputs": [],
   "source": [
    "# 10\n",
    "def fibonacci(n):\n",
    "    if n <= 0:\n",
    "        return \"Invalid input. Please enter a positive integer.\"\n",
    "    elif n == 1 or n == 2:\n",
    "        return n - 1\n",
    "    else:\n",
    "        return fibonacci(n - 1) + fibonacci(n - 2)\n",
    "\n",
    "n = int(input(\"Enter the value of n: \"))\n",
    "print(fibonacci(n))"
   ]
  }
 ],
 "metadata": {
  "kernelspec": {
   "display_name": "Python 3",
   "language": "python",
   "name": "python3"
  },
  "language_info": {
   "codemirror_mode": {
    "name": "ipython",
    "version": 3
   },
   "file_extension": ".py",
   "mimetype": "text/x-python",
   "name": "python",
   "nbconvert_exporter": "python",
   "pygments_lexer": "ipython3",
   "version": "3.11.0"
  }
 },
 "nbformat": 4,
 "nbformat_minor": 2
}
