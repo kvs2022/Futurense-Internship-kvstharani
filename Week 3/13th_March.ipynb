{
 "cells": [
  {
   "cell_type": "code",
   "execution_count": 1,
   "metadata": {},
   "outputs": [],
   "source": [
    "# armstrong no.\n",
    "# perfect no.\n",
    "# factorial no.\n",
    "# fibonacci sequence\n",
    "# matrix multiplication\n",
    "# linear search \n",
    "# binary search\n",
    "# sorting a list\n",
    "# leap year\n",
    "# happy number\n",
    "# GCD,LCM\n",
    "# Find duplicates in a list\n",
    "# Remove duplication without using a 2nd list\n",
    "# Transpose of a matrix\n",
    "\n",
    "# OOPS concept in Python\n",
    "\n"
   ]
  },
  {
   "cell_type": "markdown",
   "metadata": {},
   "source": [
    "# Armstrong number"
   ]
  },
  {
   "cell_type": "code",
   "execution_count": 1,
   "metadata": {},
   "outputs": [
    {
     "name": "stdout",
     "output_type": "stream",
     "text": [
      "4 is an armstrong number\n"
     ]
    }
   ],
   "source": [
    "# armstrong number \n",
    "def is_armstrong(n):\n",
    "    # convert number to string\n",
    "    n_str = str(n)\n",
    "    # calculate the number of digits\n",
    "    num_digits = len(n_str)\n",
    "    # calculate the sum of the digits raised to the power of the number of digits\n",
    "    armstrong_sum = sum(int(digit)**num_digits for digit in n_str)\n",
    "    # check if the sum is equal to the original number\n",
    "    return n == armstrong_sum\n",
    "\n",
    "x = int(input(\"Enter a number: \"))\n",
    "if is_armstrong(x):\n",
    "    print(x, \"is an armstrong number\")\n",
    "else:\n",
    "    print(x, \"is not an armstrong number\")\n"
   ]
  },
  {
   "cell_type": "markdown",
   "metadata": {},
   "source": [
    "# Perfect number"
   ]
  },
  {
   "cell_type": "code",
   "execution_count": 8,
   "metadata": {},
   "outputs": [
    {
     "name": "stdout",
     "output_type": "stream",
     "text": [
      "6 is a perfect number.\n"
     ]
    }
   ],
   "source": [
    "# perfect number\n",
    "def is_perfect_number(n):\n",
    "    factors = []\n",
    "    for i in range(1, n):\n",
    "        if n % i == 0:\n",
    "            factors.append(i)\n",
    "    if sum(factors) == n:\n",
    "        print(n, \"is a perfect number.\")\n",
    "    else:\n",
    "        print(n, \"is not a perfect number.\")\n",
    "\n",
    "n = int(input(\"Enter a number: \"))\n",
    "\n",
    "is_perfect_number(n)\n"
   ]
  },
  {
   "cell_type": "markdown",
   "metadata": {},
   "source": [
    "# Factorial of a number"
   ]
  },
  {
   "cell_type": "code",
   "execution_count": 9,
   "metadata": {},
   "outputs": [
    {
     "name": "stdout",
     "output_type": "stream",
     "text": [
      "The factorial of 5 is 120\n"
     ]
    }
   ],
   "source": [
    "# factorial of a number \n",
    "\n",
    "def fact(n):\n",
    "    if n==0:\n",
    "        return 1\n",
    "    else:\n",
    "        return n*fact(n-1)\n",
    "\n",
    "n = int(input(\"Enter a number: \"))\n",
    "\n",
    "print(f\"The factorial of {n} is {fact(n)}\")"
   ]
  },
  {
   "cell_type": "markdown",
   "metadata": {},
   "source": [
    "# Fibonacci sequence"
   ]
  },
  {
   "cell_type": "code",
   "execution_count": 15,
   "metadata": {},
   "outputs": [
    {
     "name": "stdout",
     "output_type": "stream",
     "text": [
      "Fibonacci sequence up to 5 terms: \n",
      "[0, 1, 1, 2, 3]\n"
     ]
    }
   ],
   "source": [
    "# fibonacci sequence\n",
    "\n",
    "def fibonacci(n):\n",
    "    fib_sequence = []\n",
    "    current, next_term = 0, 1\n",
    "    for i in range(n):\n",
    "        fib_sequence.append(current)\n",
    "        current, next_term = next_term, current + next_term\n",
    "    return fib_sequence\n",
    "\n",
    "# Taking input from the user for the number of terms\n",
    "num_terms = int(input(\"Enter the number of terms in the Fibonacci sequence: \"))\n",
    "\n",
    "# Generating and printing the Fibonacci sequence\n",
    "fib_seq = fibonacci(num_terms)\n",
    "print(f\"Fibonacci sequence up to {num_terms} terms: \")\n",
    "print(fib_seq)\n"
   ]
  },
  {
   "cell_type": "markdown",
   "metadata": {},
   "source": [
    "# Matrix multiplication"
   ]
  },
  {
   "cell_type": "code",
   "execution_count": 16,
   "metadata": {},
   "outputs": [
    {
     "name": "stdout",
     "output_type": "stream",
     "text": [
      "[[19, 22], [43, 50]]\n"
     ]
    }
   ],
   "source": [
    "# matrix multiplication\n",
    "\n",
    "def matrix_multiplication(m1, m2):\n",
    "    m1_rows, m1_cols = len(m1), len(m1[0])\n",
    "    m2_rows, m2_cols = len(m2), len(m2[0])\n",
    "    if m1_cols != m2_rows:\n",
    "        print(\"Matrix multiplication is not possible.\")\n",
    "        return None\n",
    "    else:\n",
    "        result = [[0 for _ in range(m1_rows)] for __ in range(m2_cols)]\n",
    "        for i in range(m1_rows):\n",
    "            for j in range(m2_cols):\n",
    "                for k in range(m1_cols):\n",
    "                    result[i][j] += m1[i][k]*m2[k][j] \n",
    "        return result\n",
    "        \n",
    "# Testing the function \n",
    "A = [[1, 2], [3, 4]]\n",
    "B = [[5, 6], [7, 8]]\n",
    "print(matrix_multiplication(A, B))   # Output: [[19, 22], [43, 50]]"
   ]
  },
  {
   "cell_type": "markdown",
   "metadata": {},
   "source": []
  },
  {
   "cell_type": "code",
   "execution_count": 17,
   "metadata": {},
   "outputs": [
    {
     "name": "stdout",
     "output_type": "stream",
     "text": [
      "Linear Search Result :  3\n",
      "Binary Search Result :  3\n"
     ]
    }
   ],
   "source": [
    "# linear search \n",
    "\n",
    "def linear_search(arr, key):\n",
    "    for i in range(len(arr)):\n",
    "        if arr[i] == key:\n",
    "            return i\n",
    "    return -1\n",
    "\n",
    "# binary search \n",
    "\n",
    "def binary_search(arr, low, high, key): \n",
    "    while low <= high: \n",
    "  \n",
    "        mid = (high + low) // 2\n",
    "        \n",
    "        # Check if key is present at mid  \n",
    "        if arr[mid] < key:  \n",
    "            low = mid + 1\n",
    "          \n",
    "        elif arr[mid] > key:  \n",
    "            high = mid - 1\n",
    "              \n",
    "        else:  \n",
    "            return mid  \n",
    "            \n",
    "    return -1\n",
    "\n",
    "# main function to test the algorithms\n",
    "\n",
    "def main():\n",
    "    arr = [2, 3, 4, 10, 40]\n",
    "    print(\"Linear Search Result : \",linear_search(arr, 10))\n",
    "    \n",
    "    arr.sort()\n",
    "    print(\"Binary Search Result : \",binary_search(arr, 0, len(arr)-1, 10))\n",
    "\n",
    "if __name__==\"__main__\": \n",
    "    main()"
   ]
  },
  {
   "cell_type": "markdown",
   "metadata": {},
   "source": [
    "# Sorting a list"
   ]
  },
  {
   "cell_type": "code",
   "execution_count": 14,
   "metadata": {},
   "outputs": [
    {
     "name": "stdout",
     "output_type": "stream",
     "text": [
      "Sorted array is: [0, 23, 34, 157, 231, 313]\n"
     ]
    }
   ],
   "source": [
    "# sorting a list \n",
    "def bubble_sort(arr):\n",
    "    n = len(arr)\n",
    "    for i in range(n):\n",
    "        for j in range(n-i-1):\n",
    "            if arr[j] > arr[j+1]:\n",
    "                arr[j], arr[j+1] = arr[j+1], arr[j]\n",
    "\n",
    "# testing the function\n",
    "b = input(\"Enter the numbers separated by commas \")\n",
    "nums = [int(a) for a in b.split(',')]\n",
    "bubble_sort(nums)\n",
    "print(\"Sorted array is:\", nums)\n"
   ]
  },
  {
   "cell_type": "markdown",
   "metadata": {},
   "source": []
  },
  {
   "cell_type": "markdown",
   "metadata": {},
   "source": [
    "# Leap Year"
   ]
  },
  {
   "cell_type": "code",
   "execution_count": 21,
   "metadata": {},
   "outputs": [
    {
     "name": "stdout",
     "output_type": "stream",
     "text": [
      "2024 is a leap year \n"
     ]
    }
   ],
   "source": [
    "# leap year \n",
    "\n",
    "def is_leap_year(year):\n",
    "    if year % 4 == 0 and year % 100!= 0 or year % 400 == 0:\n",
    "        return True\n",
    "    else:\n",
    "        return False\n",
    "\n",
    "year = int(input(\"Enter a year: \"))\n",
    "\n",
    "if is_leap_year(year) :\n",
    "    # print(\"%d is a Leap Year\" % year)\n",
    "    print(f\"{year} is a leap year \")\n",
    "else: \n",
    "    # print(\"%d is not a Leap Year\" % year)\n",
    "    print(f\"{year} is not a leap year \")"
   ]
  },
  {
   "cell_type": "markdown",
   "metadata": {},
   "source": [
    "# Happy number"
   ]
  },
  {
   "cell_type": "code",
   "execution_count": 3,
   "metadata": {},
   "outputs": [
    {
     "name": "stdout",
     "output_type": "stream",
     "text": [
      "56 is not a Happy Number\n"
     ]
    }
   ],
   "source": [
    "# # happy number\n",
    "def is_happy(n):\n",
    "    while n != 1:\n",
    "        if n == 4:  # If n equals 4, it will never become 1, so it's not a happy number\n",
    "            return False\n",
    "        next_num = 0\n",
    "        while n > 0:\n",
    "            digit = n % 10\n",
    "            next_num += digit ** 2\n",
    "            n //= 10\n",
    "        n = next_num\n",
    "    return True\n",
    "\n",
    "n = int(input(\"Enter a number you want to check: \"))\n",
    "\n",
    "if is_happy(n):\n",
    "    print(f\"{n} is a Happy Number\")\n",
    "else:\n",
    "    print(f\"{n} is not a Happy Number\")\n"
   ]
  },
  {
   "cell_type": "markdown",
   "metadata": {},
   "source": [
    "# GCD and LCM"
   ]
  },
  {
   "cell_type": "code",
   "execution_count": 2,
   "metadata": {},
   "outputs": [
    {
     "name": "stdout",
     "output_type": "stream",
     "text": [
      "GCD of 16 and 2 is  2\n",
      "LCM of 16 and 2 is  16\n"
     ]
    }
   ],
   "source": [
    "# gcd, lcm\n",
    "\n",
    "def gcd(a, b):\n",
    "    if b == 0:\n",
    "        return a\n",
    "    else:\n",
    "        return gcd(b, a % b)\n",
    "\n",
    "# Euclidean algorithm is used to find the GCD of two numbers. The algorithm is based on the principle that the greatest common divisor\n",
    "# The least common multiple (lcm) of two integers a and b is the smallest positive integer that is divisible by both a and b\n",
    "\n",
    "def lcm(a, b):\n",
    "    return (a * b) // gcd(a, b)\n",
    "\n",
    "a = int(input(\"Enter a number: \"))\n",
    "b = int(input(\"Enter another number: \"))\n",
    "print(\"GCD of\", a, \"and\", b, \"is \", gcd(a, b))\n",
    "print(\"LCM of\", a, \"and\", b, \"is \", lcm(a, b))"
   ]
  },
  {
   "cell_type": "markdown",
   "metadata": {},
   "source": [
    "# Find duplicates in a list"
   ]
  },
  {
   "cell_type": "code",
   "execution_count": 4,
   "metadata": {},
   "outputs": [
    {
     "name": "stdout",
     "output_type": "stream",
     "text": [
      "No duplicates found in the list.\n"
     ]
    }
   ],
   "source": [
    "# duplicates in a list\n",
    "def find_duplicates(lst):\n",
    "    frequency = {}  # Dictionary to store the frequency of elements\n",
    "    duplicates = []\n",
    "\n",
    "    for item in lst:\n",
    "        if item in frequency:\n",
    "            frequency[item] += 1\n",
    "            if frequency[item] == 2:\n",
    "                duplicates.append(item)\n",
    "        else:\n",
    "            frequency[item] = 1\n",
    "\n",
    "    return duplicates\n",
    "\n",
    "# Get input from the user\n",
    "user_input = input(\"Enter numbers separated by spaces: \")\n",
    "user_list = [int(x) for x in user_input.split()]\n",
    "\n",
    "# Find duplicates in the list\n",
    "duplicates = find_duplicates(user_list)\n",
    "\n",
    "# Print the duplicates found\n",
    "if duplicates:\n",
    "    print(\"Duplicates in the list:\", duplicates)\n",
    "else:\n",
    "    print(\"No duplicates found in the list.\")\n"
   ]
  },
  {
   "cell_type": "markdown",
   "metadata": {},
   "source": [
    "# Removing duplication without using a 2nd list"
   ]
  },
  {
   "cell_type": "code",
   "execution_count": 7,
   "metadata": {},
   "outputs": [
    {
     "name": "stdout",
     "output_type": "stream",
     "text": [
      "[1, 2, 3, 4, 5, 67, 7, 47]\n"
     ]
    }
   ],
   "source": [
    "# Remove duplication without using a 2nd list\n",
    "def remove_duplicates(lst):\n",
    "    index = 0\n",
    "    while index < len(lst):\n",
    "        item = lst[index]\n",
    "        if lst.count(item) > 1:\n",
    "            lst.remove(item)\n",
    "        else:\n",
    "            index += 1\n",
    "    return lst\n",
    "\n",
    "# Testing the function with different inputs\n",
    "# print(remove_duplicates([1, 2, 3, 'a', 'b', 2, 3]))\n",
    "\n",
    "lst = input(\"Enter the list separated by commas\")\n",
    "\n",
    "lst = [int(x) for x in lst.split(',')]\n",
    "\n",
    "print\n",
    "print(remove_duplicates(lst))\n"
   ]
  },
  {
   "cell_type": "markdown",
   "metadata": {},
   "source": [
    "# Transpose of a matrix"
   ]
  },
  {
   "cell_type": "code",
   "execution_count": 15,
   "metadata": {},
   "outputs": [
    {
     "name": "stdout",
     "output_type": "stream",
     "text": [
      "Enter the elements of the matrix (one row at a time) separated by space:\n",
      "Transpose of the matrix:\n",
      "[1, 3, 5, 7]\n",
      "[2, 4, 6, 8]\n",
      "[3, 5, 7, 9]\n"
     ]
    }
   ],
   "source": [
    "def transpose_matrix(matrix):\n",
    "    # Number of rows and columns in the original matrix\n",
    "    rows = len(matrix)\n",
    "    cols = len(matrix[0])\n",
    "\n",
    "    # Initialize an empty matrix to store the transpose\n",
    "    transpose = []\n",
    "\n",
    "    # Iterate through columns of the original matrix\n",
    "    for j in range(cols):\n",
    "        # Initialize a row in the transpose matrix\n",
    "        transpose_row = []\n",
    "        # Iterate through rows of the original matrix\n",
    "        for i in range(rows):\n",
    "            # Append the element at position (i, j) to the transpose row\n",
    "            transpose_row.append(matrix[i][j])\n",
    "        # Append the transpose row to the transpose matrix\n",
    "        transpose.append(transpose_row)\n",
    "\n",
    "    return transpose\n",
    "\n",
    "# Get the size of the matrix from the user\n",
    "rows = int(input(\"Enter the number of rows: \"))\n",
    "cols = int(input(\"Enter the number of columns: \"))\n",
    "\n",
    "# Initialize an empty matrix to store the user input\n",
    "matrix = []\n",
    "\n",
    "# Get the matrix elements from the user\n",
    "print(\"Enter the elements of the matrix (one row at a time) separated by space:\")\n",
    "for i in range(rows):\n",
    "    row = list(map(int, input().split()))\n",
    "    matrix.append(row)\n",
    "\n",
    "# Find the transpose of the matrix\n",
    "transpose = transpose_matrix(matrix)\n",
    "\n",
    "# Print the transpose matrix\n",
    "print(\"Transpose of the matrix:\")\n",
    "for row in transpose:\n",
    "    print(row)\n"
   ]
  },
  {
   "cell_type": "code",
   "execution_count": null,
   "metadata": {},
   "outputs": [],
   "source": []
  },
  {
   "cell_type": "code",
   "execution_count": null,
   "metadata": {},
   "outputs": [],
   "source": []
  }
 ],
 "metadata": {
  "kernelspec": {
   "display_name": "Python 3",
   "language": "python",
   "name": "python3"
  },
  "language_info": {
   "codemirror_mode": {
    "name": "ipython",
    "version": 3
   },
   "file_extension": ".py",
   "mimetype": "text/x-python",
   "name": "python",
   "nbconvert_exporter": "python",
   "pygments_lexer": "ipython3",
   "version": "3.11.0"
  }
 },
 "nbformat": 4,
 "nbformat_minor": 2
}
