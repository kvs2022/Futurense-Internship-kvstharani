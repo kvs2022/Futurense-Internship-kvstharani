{
 "cells": [
  {
   "cell_type": "code",
   "execution_count": 1,
   "id": "b4badbf3",
   "metadata": {},
   "outputs": [
    {
     "name": "stdout",
     "output_type": "stream",
     "text": [
      "(1, 2, 3, 4, 5, 6)\n"
     ]
    }
   ],
   "source": [
    "# write a python program to flatten tuple of list to tuple\n",
    "\n",
    "a = [(1,2),(3,4),(5,6)]\n",
    "b=[]\n",
    "for i in a:\n",
    "    for number in i:\n",
    "        b.append(number)\n",
    "\n",
    "c=tuple(b)\n",
    "print(c)\n",
    "\n"
   ]
  },
  {
   "cell_type": "code",
   "execution_count": 11,
   "id": "2d60fcb5",
   "metadata": {},
   "outputs": [
    {
     "name": "stdout",
     "output_type": "stream",
     "text": [
      "Enter the elements of a set separated by commas: 2,f,4,5,6\n",
      "set -  {'4', '6', '2', '5', 'f'}\n",
      "Enter 1 for converting to tuple or 2 for converting to set : 1\n",
      "set converted to tuple -  ('4', '6', '2', '5', 'f') <class 'tuple'>\n"
     ]
    }
   ],
   "source": [
    "# python program to convert set into tuple and tuple into set\n",
    "\n",
    "a = set(input(\"Enter the elements of a set separated by commas: \").split(','))\n",
    "print(\"set - \",a)\n",
    "\n",
    "n = int(input(\"Enter 1 for converting to tuple or 2 for converting to set : \"))\n",
    "\n",
    "if n == 1:\n",
    "    # Convert set to tuple\n",
    "    result_tuple = tuple(a)\n",
    "    print(\"set converted to tuple - \",result_tuple,type(result_tuple))\n",
    "    \n",
    "elif n == 2:\n",
    "    # Convert tuple to set\n",
    "    input_tuple = tuple(input(\"Enter elements separated by commas: \").split(','))\n",
    "    result_set = set(input_tuple)\n",
    "    print(\"tuple converted to set - \", result_set,type(result_set))\n",
    "    \n",
    "else:\n",
    "    print(\"Invalid input. Enter either 1 or 2.\")\n"
   ]
  },
  {
   "cell_type": "code",
   "execution_count": 1,
   "id": "dd0af4a8",
   "metadata": {},
   "outputs": [
    {
     "name": "stdout",
     "output_type": "stream",
     "text": [
      "[(('a', 1), ('b', 2), ('c', 3), ('d', 4))]\n"
     ]
    }
   ],
   "source": [
    "# convert list of dictionary to tuple list python\n",
    "\n",
    "a = [{'a':1,'b':2,'c':3,'d':4}]\n",
    "\n",
    "for value in a:\n",
    "    tup_b = [tuple(value.items())]\n",
    "    \n",
    "print(tup_b)"
   ]
  },
  {
   "cell_type": "code",
   "execution_count": 2,
   "id": "0ebec90a",
   "metadata": {},
   "outputs": [
    {
     "name": "stdout",
     "output_type": "stream",
     "text": [
      "Enter the index to sort by: 1\n",
      "Sorted list : [(7, 1, 'w'), (4, 2, 'k'), (1, 5, 'g')]\n"
     ]
    }
   ],
   "source": [
    "#  python | sort tuple list by nth element of tuple \n",
    "\n",
    "tuple_list = [(1, 5, 'g'), (4, 2, 'k'), (7, 1, 'w')]\n",
    "n = int(input(\"Enter the index to sort by: \"))\n",
    "\n",
    "# Sorting the list of tuples by the nth element\n",
    "sorted_list = sorted(tuple_list, key=lambda x: x[n])\n",
    "\n",
    "print(\"Sorted list :\", sorted_list)\n",
    "\n"
   ]
  },
  {
   "cell_type": "code",
   "execution_count": 4,
   "id": "1dd6b83b",
   "metadata": {},
   "outputs": [
    {
     "name": "stdout",
     "output_type": "stream",
     "text": [
      "Dict value to dict list : [{'flavours': 'Chocolate'}, {'flavours': 'Vanilla'}, {'flavours': 'ButterScotch'}, {'flavours': 'Strawberry'}]\n"
     ]
    }
   ],
   "source": [
    "# convert dictionary value to dictionary list python\n",
    "\n",
    "dic_t = {1:'Chocolate',2:'Vanilla',3:'ButterScotch',4:'Strawberry'}\n",
    "dict_list = []\n",
    "\n",
    "for value in dic_t.values():\n",
    "    dict_item = {\"flavours\":value}\n",
    "    dict_list.append(dict_item)\n",
    "    \n",
    "print(\"Dict value to dict list :\", dict_list)"
   ]
  },
  {
   "cell_type": "code",
   "execution_count": 7,
   "id": "edf28346",
   "metadata": {},
   "outputs": [
    {
     "name": "stdout",
     "output_type": "stream",
     "text": [
      "Enter the elements of main tuple 2,3,a,b\n",
      "Enter the elements u want indices of  a,3\n",
      "Indices of elements from search_tuple in main_tuple: [2, 1]\n"
     ]
    }
   ],
   "source": [
    "# python program to find tuple indices from other tuple list\n",
    "\n",
    "def find_indices(main_tuple, search_tuple):\n",
    "    return [main_tuple.index(element) if element in main_tuple else None for element in search_tuple]\n",
    "\n",
    "main_tuple = tuple(input(\"Enter the elements of main tuple \").split(','))\n",
    "search_tuple = tuple(input(\"Enter the elements u want indices of  \").split(','))\n",
    "\n",
    "# Find indices of elements from search_tuple in main_tuple\n",
    "result_indices = find_indices(main_tuple, search_tuple)\n",
    "\n",
    "print(f\"Indices of elements from search_tuple in main_tuple: {result_indices}\")"
   ]
  },
  {
   "cell_type": "code",
   "execution_count": null,
   "id": "7049867f",
   "metadata": {},
   "outputs": [],
   "source": []
  }
 ],
 "metadata": {
  "kernelspec": {
   "display_name": "Python 3 (ipykernel)",
   "language": "python",
   "name": "python3"
  },
  "language_info": {
   "codemirror_mode": {
    "name": "ipython",
    "version": 3
   },
   "file_extension": ".py",
   "mimetype": "text/x-python",
   "name": "python",
   "nbconvert_exporter": "python",
   "pygments_lexer": "ipython3",
   "version": "3.11.0"
  }
 },
 "nbformat": 4,
 "nbformat_minor": 5
}
