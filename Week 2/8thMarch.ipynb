{
 "cells": [
  {
   "cell_type": "code",
   "execution_count": 3,
   "metadata": {},
   "outputs": [
    {
     "name": "stdout",
     "output_type": "stream",
     "text": [
      "Original Tuple 1 = (4, 3, 2, 2, -1, 18)\n",
      "Product of all the numbers in the original Tuple 1 = -864\n",
      "Original Tuple 2 = (2, 4, 8, 8, 3, 2, 9)\n",
      "Product of all the numbers in the original Tuple 2 = 27648\n"
     ]
    }
   ],
   "source": [
    "# write a python program to calculate the product, multiplying all the nnumbers in a given tuple.\n",
    "# original tuple: (4,3,2,2,-1,18)\n",
    "#  product - multiplying all the numbers of the said tuple: -864\n",
    "\n",
    "# original tuple : (2,4,8,8,3,2,9)\n",
    "# prodcut - multiplying all the numbers of the said tuple : 27648\n",
    "\n",
    "\n",
    "def product_result(original_tuple):\n",
    "    product = 1\n",
    "    for i in original_tuple:\n",
    "        product *= i\n",
    "    return product\n",
    "\n",
    "original_tuple1 = (4,3,2,2,-1,18)\n",
    "original_tuple2 = (2,4,8,8,3,2,9)\n",
    "\n",
    "\n",
    "product1 = product_result(original_tuple1)\n",
    "print(f\"Original Tuple 1 = {original_tuple1}\")\n",
    "print(f\"Product of all the numbers in the original Tuple 1 = {product1}\")\n",
    "\n",
    "product2 = product_result(original_tuple2)\n",
    "print(f\"Original Tuple 2 = {original_tuple2}\")\n",
    "print(f\"Product of all the numbers in the original Tuple 2 = {product2}\")\n"
   ]
  },
  {
   "cell_type": "code",
   "execution_count": 1,
   "metadata": {},
   "outputs": [
    {
     "name": "stdout",
     "output_type": "stream",
     "text": [
      "Original Tuple:  ((10, 10, 10, 12), (30, 45, 56, 45), (81, 80, 39, 32), (1, 2, 3, 4))\n",
      "\n",
      "Average value of the numbers of the said tuple of tuples:\n",
      " [30.5, 34.25, 27.0, 23.25]\n",
      "\n",
      "Original Tuple:  ((1, 1, -5), (30, -15, 56), (81, -60, -39), (-10, 2, 3))\n",
      "\n",
      "Average value of the numbers of the said tuple of tuples:\n",
      " [25.5, -18.0, 3.75]\n"
     ]
    }
   ],
   "source": [
    "# write a python program to calculate the avergae value of the numbres in a given tuple of tuples.\n",
    "# original tuple = ((10,10,10,12),(30,45,56,45),(81,80,39,32),(1,2,3,4))\n",
    "# Average value of the numbers of the said tuple of tuples = [30.5,34.25,27.0,23.25]\n",
    "\n",
    "# original tuple = ((1,1,-5),(30,-15,56),(81,-60,-39),(-10,2,3))\n",
    "# Average  value of the numbers of the said tuple of tuple = [25.5,-18.0,3.75]\n",
    "\n",
    "def average_tuple(nums):\n",
    "    result = [sum(x) / len(x) for x in zip(*nums)]\n",
    "    return result\n",
    "\n",
    "nums = ((10, 10, 10, 12), (30, 45, 56, 45), (81, 80, 39, 32), (1, 2, 3, 4))\n",
    "print (\"Original Tuple: \",nums)\n",
    "\n",
    "print(\"\\nAverage value of the numbers of the said tuple of tuples:\\n\", average_tuple(nums))\n",
    "\n",
    "nums = ((1, 1, -5), (30, -15, 56), (81, -60, -39), (-10, 2, 3))\n",
    "print (\"\\nOriginal Tuple: \",nums)\n",
    "\n",
    "print(\"\\nAverage value of the numbers of the said tuple of tuples:\\n\", average_tuple(nums))"
   ]
  },
  {
   "cell_type": "code",
   "execution_count": null,
   "metadata": {},
   "outputs": [],
   "source": []
  }
 ],
 "metadata": {
  "kernelspec": {
   "display_name": "Python 3",
   "language": "python",
   "name": "python3"
  },
  "language_info": {
   "codemirror_mode": {
    "name": "ipython",
    "version": 3
   },
   "file_extension": ".py",
   "mimetype": "text/x-python",
   "name": "python",
   "nbconvert_exporter": "python",
   "pygments_lexer": "ipython3",
   "version": "3.11.0"
  }
 },
 "nbformat": 4,
 "nbformat_minor": 2
}
